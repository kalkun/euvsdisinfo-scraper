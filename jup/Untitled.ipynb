{
 "cells": [
  {
   "cell_type": "code",
   "execution_count": 2,
   "metadata": {
    "collapsed": true
   },
   "outputs": [],
   "source": [
    "metatag_list = [\n",
    "    (\"name\", \"description\", \"content\"),\n",
    "    (\"property\" \"og:title\", \"content\"),\n",
    "    (\"property\", \"og:description\", \"content\"),\n",
    "    (\"name\", \"twitter:title\", \"content\"),\n",
    "    (\"name\", \"twitter:description\", \"content\"),\n",
    "    (\"name\", \"language\", \"content\"),\n",
    "    (\"name\", \"keywords\", \"content\"),\n",
    "    (\"name\", \"subject\", \"content\"),\n",
    "    (\"name\", \"topic\", \"content\"),\n",
    "    (\"name\", \"summary\", \"content\"),\n",
    "    (\"name\", \"subtitle\", \"content\"),\n",
    "    (\"itemprop\", \"name\", \"content\"),\n",
    "    (\"itemprop\", \"description\", \"content\"),\n",
    "]"
   ]
  },
  {
   "cell_type": "code",
   "execution_count": null,
   "metadata": {
    "collapsed": true
   },
   "outputs": [],
   "source": []
  }
 ],
 "metadata": {
  "kernelspec": {
   "display_name": "Python 3",
   "language": "python",
   "name": "python3"
  },
  "language_info": {
   "codemirror_mode": {
    "name": "ipython",
    "version": 3
   },
   "file_extension": ".py",
   "mimetype": "text/x-python",
   "name": "python",
   "nbconvert_exporter": "python",
   "pygments_lexer": "ipython3",
   "version": "3.5.2"
  }
 },
 "nbformat": 4,
 "nbformat_minor": 2
}
